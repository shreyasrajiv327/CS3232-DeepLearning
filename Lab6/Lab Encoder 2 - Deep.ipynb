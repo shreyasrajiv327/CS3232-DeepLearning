{
 "cells": [
  {
   "cell_type": "markdown",
   "metadata": {
    "id": "hSmjE4t1dKnG"
   },
   "source": [
    "# Lab: MNIST Deep Autoencoder\n",
    "\n",
    "Welcome back! In this lab, you will extend the shallow autoencoder you built in the previous exercise. The model here will have a deeper network so it can handle more complex images."
   ]
  },
  {
   "cell_type": "markdown",
   "metadata": {
    "id": "zTTfAJbudq7l"
   },
   "source": [
    "## Imports"
   ]
  },
  {
   "cell_type": "code",
   "execution_count": 1,
   "metadata": {
    "id": "3EXwoz-KHtWO"
   },
   "outputs": [],
   "source": [
    "try:\n",
    "  # %tensorflow_version only exists in Colab.\n",
    "  %tensorflow_version 2.x\n",
    "except Exception:\n",
    "  pass\n",
    "\n",
    "import tensorflow as tf\n",
    "import tensorflow_datasets as tfds\n",
    "\n",
    "import numpy as np\n",
    "import matplotlib.pyplot as plt"
   ]
  },
  {
   "cell_type": "markdown",
   "metadata": {
    "id": "25T24ET7e0ub"
   },
   "source": [
    "## Prepare the Dataset"
   ]
  },
  {
   "cell_type": "markdown",
   "metadata": {
    "id": "4RJB4eae0rgU"
   },
   "source": [
    "You will prepare the MNIST dataset just like in the previous lab."
   ]
  },
  {
   "cell_type": "code",
   "execution_count": 2,
   "metadata": {
    "id": "5BMJF86p0d08"
   },
   "outputs": [],
   "source": [
    "def map_image(image, label):\n",
    "  '''Normalizes and flattens the image. Returns image as input and label.'''\n",
    "  image = tf.cast(image, dtype=tf.float32)\n",
    "  image = image / 255.0\n",
    "  image = tf.reshape(image, shape=(784,))\n",
    "\n",
    "  return image, image"
   ]
  },
  {
   "cell_type": "code",
   "execution_count": 3,
   "metadata": {
    "id": "t9F7YsCNIKSA"
   },
   "outputs": [
    {
     "name": "stderr",
     "output_type": "stream",
     "text": [
      "2024-09-11 09:48:23.236483: I metal_plugin/src/device/metal_device.cc:1154] Metal device set to: Apple M1 Pro\n",
      "2024-09-11 09:48:23.236502: I metal_plugin/src/device/metal_device.cc:296] systemMemory: 16.00 GB\n",
      "2024-09-11 09:48:23.236505: I metal_plugin/src/device/metal_device.cc:313] maxCacheSize: 5.33 GB\n",
      "2024-09-11 09:48:23.236542: I tensorflow/core/common_runtime/pluggable_device/pluggable_device_factory.cc:306] Could not identify NUMA node of platform GPU ID 0, defaulting to 0. Your kernel may not have been built with NUMA support.\n",
      "2024-09-11 09:48:23.236558: I tensorflow/core/common_runtime/pluggable_device/pluggable_device_factory.cc:272] Created TensorFlow device (/job:localhost/replica:0/task:0/device:GPU:0 with 0 MB memory) -> physical PluggableDevice (device: 0, name: METAL, pci bus id: <undefined>)\n"
     ]
    }
   ],
   "source": [
    "# Load the train and test sets from TFDS\n",
    "\n",
    "BATCH_SIZE = 128\n",
    "SHUFFLE_BUFFER_SIZE = 1024\n",
    "\n",
    "train_dataset = tfds.load('mnist', as_supervised=True, split=\"train\")\n",
    "train_dataset = train_dataset.map(map_image)\n",
    "train_dataset = train_dataset.shuffle(SHUFFLE_BUFFER_SIZE).batch(BATCH_SIZE).repeat()\n",
    "\n",
    "test_dataset = tfds.load('mnist', as_supervised=True, split=\"test\")\n",
    "test_dataset = test_dataset.map(map_image)\n",
    "test_dataset = test_dataset.batch(BATCH_SIZE).repeat()"
   ]
  },
  {
   "cell_type": "markdown",
   "metadata": {
    "id": "Ji6sa0SXe3zP"
   },
   "source": [
    "## Build the Model"
   ]
  },
  {
   "cell_type": "markdown",
   "metadata": {
    "id": "x8OFTvkO02gV"
   },
   "source": [
    "As mentioned, you will have a deeper network for the autoencoder. Compare the layers here with that of the shallow network you built in the previous lab."
   ]
  },
  {
   "cell_type": "code",
   "execution_count": 4,
   "metadata": {
    "id": "KRrE2BV4IpzR"
   },
   "outputs": [],
   "source": [
    "def deep_autoencoder():\n",
    "  '''Builds the encoder and decoder using Dense layers.'''\n",
    "  # START YOUR CODE HERE\n",
    "  encoder = tf.keras.layers.Dense(units=128,activation='relu')(inputs)\n",
    "  encoder = tf.keras.layers.Dense(units=64,activation='relu')(encoder)\n",
    "  encoder = tf.keras.layers.Dense(units=32,activation='relu')(encoder)\n",
    "  \n",
    "  decoder = tf.keras.layers.Dense(units=64,activation='sigmoid')(encoder)\n",
    "  decoder = tf.keras.layers.Dense(units=128,activation='sigmoid')(decoder)\n",
    "  decoder = tf.keras.layers.Dense(units=784,activation='sigmoid')(decoder)\n",
    "  # END YOUR CODE HERE\n",
    "  return encoder, decoder\n",
    "\n",
    "# set the input tensor\n",
    "inputs =  tf.keras.layers.Input(shape=(784,))\n",
    "\n",
    "# get the encoder and decoder output\n",
    "deep_encoder_output, deep_autoencoder_output = deep_autoencoder()\n",
    "\n",
    "# setup the encoder because you will visualize its output later\n",
    "deep_encoder_model = tf.keras.Model(inputs=inputs, outputs=deep_encoder_output)\n",
    "\n",
    "# setup the autoencoder\n",
    "deep_autoencoder_model = tf.keras.Model(inputs=inputs, outputs=deep_autoencoder_output)"
   ]
  },
  {
   "cell_type": "markdown",
   "metadata": {
    "id": "5zG5ml6ufAz7"
   },
   "source": [
    "## Compile and Train the Model"
   ]
  },
  {
   "cell_type": "code",
   "execution_count": 5,
   "metadata": {
    "id": "gj3xr9gxfAqP"
   },
   "outputs": [
    {
     "name": "stderr",
     "output_type": "stream",
     "text": [
      "WARNING:absl:At this time, the v2.11+ optimizer `tf.keras.optimizers.Adam` runs slowly on M1/M2 Macs, please use the legacy Keras optimizer instead, located at `tf.keras.optimizers.legacy.Adam`.\n",
      "WARNING:absl:There is a known slowdown when using v2.11+ Keras optimizers on M1/M2 Macs. Falling back to the legacy Keras optimizer, i.e., `tf.keras.optimizers.legacy.Adam`.\n"
     ]
    },
    {
     "name": "stdout",
     "output_type": "stream",
     "text": [
      "Epoch 1/50\n"
     ]
    },
    {
     "name": "stderr",
     "output_type": "stream",
     "text": [
      "2024-09-11 09:48:23.601763: I tensorflow/core/common_runtime/executor.cc:1197] [/device:CPU:0] (DEBUG INFO) Executor start aborting (this does not indicate an error and you can ignore this message): INVALID_ARGUMENT: You must feed a value for placeholder tensor 'Placeholder/_4' with dtype int64 and shape [1]\n",
      "\t [[{{node Placeholder/_4}}]]\n",
      "2024-09-11 09:48:23.602052: I tensorflow/core/common_runtime/executor.cc:1197] [/device:CPU:0] (DEBUG INFO) Executor start aborting (this does not indicate an error and you can ignore this message): INVALID_ARGUMENT: You must feed a value for placeholder tensor 'Placeholder/_2' with dtype string and shape [1]\n",
      "\t [[{{node Placeholder/_2}}]]\n",
      "2024-09-11 09:48:23.808126: W tensorflow/tsl/platform/profile_utils/cpu_utils.cc:128] Failed to get CPU frequency: 0 Hz\n",
      "2024-09-11 09:48:23.808454: I tensorflow/core/grappler/optimizers/custom_graph_optimizer_registry.cc:114] Plugin optimizer for device_type GPU is enabled.\n"
     ]
    },
    {
     "name": "stdout",
     "output_type": "stream",
     "text": [
      "468/468 [==============================] - 6s 10ms/step - loss: 0.2753\n",
      "Epoch 2/50\n",
      "468/468 [==============================] - 4s 9ms/step - loss: 0.2299\n",
      "Epoch 3/50\n",
      "468/468 [==============================] - 4s 9ms/step - loss: 0.1954\n",
      "Epoch 4/50\n",
      "468/468 [==============================] - 4s 9ms/step - loss: 0.1812\n",
      "Epoch 5/50\n",
      "468/468 [==============================] - 4s 9ms/step - loss: 0.1741\n",
      "Epoch 6/50\n",
      "468/468 [==============================] - 4s 9ms/step - loss: 0.1704\n",
      "Epoch 7/50\n",
      "468/468 [==============================] - 4s 9ms/step - loss: 0.1701\n",
      "Epoch 8/50\n",
      "468/468 [==============================] - 4s 9ms/step - loss: 0.1654\n",
      "Epoch 9/50\n",
      "468/468 [==============================] - 4s 9ms/step - loss: 0.1614\n",
      "Epoch 10/50\n",
      "468/468 [==============================] - 4s 9ms/step - loss: 0.1605\n",
      "Epoch 11/50\n",
      "468/468 [==============================] - 4s 9ms/step - loss: 0.1593\n",
      "Epoch 12/50\n",
      "468/468 [==============================] - 4s 9ms/step - loss: 0.1584\n",
      "Epoch 13/50\n",
      "468/468 [==============================] - 5s 10ms/step - loss: 0.1581\n",
      "Epoch 14/50\n",
      "468/468 [==============================] - 4s 9ms/step - loss: 0.1572\n",
      "Epoch 15/50\n",
      "468/468 [==============================] - 4s 10ms/step - loss: 0.1566\n",
      "Epoch 16/50\n",
      "468/468 [==============================] - 5s 10ms/step - loss: 0.1557\n",
      "Epoch 17/50\n",
      "468/468 [==============================] - 4s 9ms/step - loss: 0.1552\n",
      "Epoch 18/50\n",
      "468/468 [==============================] - 4s 9ms/step - loss: 0.1547\n",
      "Epoch 19/50\n",
      "468/468 [==============================] - 5s 10ms/step - loss: 0.1543\n",
      "Epoch 20/50\n",
      "468/468 [==============================] - 4s 9ms/step - loss: 0.1534\n",
      "Epoch 21/50\n",
      "468/468 [==============================] - 4s 9ms/step - loss: 0.1526\n",
      "Epoch 22/50\n",
      "468/468 [==============================] - 4s 9ms/step - loss: 0.1521\n",
      "Epoch 23/50\n",
      "468/468 [==============================] - 4s 9ms/step - loss: 0.1521\n",
      "Epoch 24/50\n",
      "468/468 [==============================] - 4s 9ms/step - loss: 0.1518\n",
      "Epoch 25/50\n",
      "468/468 [==============================] - 4s 9ms/step - loss: 0.1512\n",
      "Epoch 26/50\n",
      "468/468 [==============================] - 4s 9ms/step - loss: 0.1510\n",
      "Epoch 27/50\n",
      "468/468 [==============================] - 4s 9ms/step - loss: 0.1510\n",
      "Epoch 28/50\n",
      "468/468 [==============================] - 4s 9ms/step - loss: 0.1508\n",
      "Epoch 29/50\n",
      "468/468 [==============================] - 5s 10ms/step - loss: 0.1506\n",
      "Epoch 30/50\n",
      "468/468 [==============================] - 5s 10ms/step - loss: 0.1512\n",
      "Epoch 31/50\n",
      "468/468 [==============================] - 4s 10ms/step - loss: 0.1511\n",
      "Epoch 32/50\n",
      "468/468 [==============================] - 4s 10ms/step - loss: 0.1512\n",
      "Epoch 33/50\n",
      "468/468 [==============================] - 4s 10ms/step - loss: 0.1500\n",
      "Epoch 34/50\n",
      "468/468 [==============================] - 5s 10ms/step - loss: 0.1496\n",
      "Epoch 35/50\n",
      "468/468 [==============================] - 5s 10ms/step - loss: 0.1497\n",
      "Epoch 36/50\n",
      "468/468 [==============================] - 4s 9ms/step - loss: 0.1490\n",
      "Epoch 37/50\n",
      "468/468 [==============================] - 4s 9ms/step - loss: 0.1488\n",
      "Epoch 38/50\n",
      "468/468 [==============================] - 4s 9ms/step - loss: 0.1491\n",
      "Epoch 39/50\n",
      "468/468 [==============================] - 4s 9ms/step - loss: 0.1487\n",
      "Epoch 40/50\n",
      "468/468 [==============================] - 4s 9ms/step - loss: 0.1491\n",
      "Epoch 41/50\n",
      "468/468 [==============================] - 5s 10ms/step - loss: 0.1487\n",
      "Epoch 42/50\n",
      "468/468 [==============================] - 4s 9ms/step - loss: 0.1487\n",
      "Epoch 43/50\n",
      "468/468 [==============================] - 4s 10ms/step - loss: 0.1486\n",
      "Epoch 44/50\n",
      "468/468 [==============================] - 4s 9ms/step - loss: 0.1485\n",
      "Epoch 45/50\n",
      "468/468 [==============================] - 4s 9ms/step - loss: 0.1478\n",
      "Epoch 46/50\n",
      "468/468 [==============================] - 4s 9ms/step - loss: 0.1475\n",
      "Epoch 47/50\n",
      "468/468 [==============================] - 4s 9ms/step - loss: 0.1474\n",
      "Epoch 48/50\n",
      "468/468 [==============================] - 5s 10ms/step - loss: 0.1476\n",
      "Epoch 49/50\n",
      "468/468 [==============================] - 5s 10ms/step - loss: 0.1474\n",
      "Epoch 50/50\n",
      "468/468 [==============================] - 4s 9ms/step - loss: 0.1476\n"
     ]
    }
   ],
   "source": [
    "train_steps = 60000 // BATCH_SIZE\n",
    "\n",
    "deep_autoencoder_model.compile(optimizer=tf.keras.optimizers.Adam(), loss='binary_crossentropy')\n",
    "deep_auto_history = deep_autoencoder_model.fit(train_dataset, steps_per_epoch=train_steps, epochs=50)"
   ]
  },
  {
   "cell_type": "markdown",
   "metadata": {
    "id": "n1XL84ydfGEh"
   },
   "source": [
    "## Display sample results\n",
    "\n",
    "See the results using the model you just trained."
   ]
  },
  {
   "cell_type": "code",
   "execution_count": 6,
   "metadata": {
    "id": "GcR54SEZ1-XF"
   },
   "outputs": [],
   "source": [
    "def display_one_row(disp_images, offset, shape=(28, 28)):\n",
    "  '''Display sample outputs in one row.'''\n",
    "  for idx, test_image in enumerate(disp_images):\n",
    "    plt.subplot(3, 10, offset + idx + 1)\n",
    "    plt.xticks([])\n",
    "    plt.yticks([])\n",
    "    test_image = np.reshape(test_image, shape)\n",
    "    plt.imshow(test_image, cmap='gray')\n",
    "\n",
    "\n",
    "def display_results(disp_input_images, disp_encoded, disp_predicted, enc_shape=(8,4)):\n",
    "  '''Displays the input, encoded, and decoded output values.'''\n",
    "  plt.figure(figsize=(15, 5))\n",
    "  display_one_row(disp_input_images, 0, shape=(28,28,))\n",
    "  display_one_row(disp_encoded, 10, shape=enc_shape)\n",
    "  display_one_row(disp_predicted, 20, shape=(28,28,))"
   ]
  },
  {
   "cell_type": "code",
   "execution_count": 7,
   "metadata": {
    "id": "qtQyQRxRN_hH"
   },
   "outputs": [
    {
     "name": "stdout",
     "output_type": "stream",
     "text": [
      "1/1 [==============================] - 0s 70ms/step\n",
      "1/1 [==============================] - 0s 64ms/step\n"
     ]
    },
    {
     "name": "stderr",
     "output_type": "stream",
     "text": [
      "2024-09-11 09:52:03.470374: I tensorflow/core/common_runtime/executor.cc:1197] [/device:CPU:0] (DEBUG INFO) Executor start aborting (this does not indicate an error and you can ignore this message): INVALID_ARGUMENT: You must feed a value for placeholder tensor 'Placeholder/_4' with dtype int64 and shape [1]\n",
      "\t [[{{node Placeholder/_4}}]]\n",
      "2024-09-11 09:52:03.470665: I tensorflow/core/common_runtime/executor.cc:1197] [/device:CPU:0] (DEBUG INFO) Executor start aborting (this does not indicate an error and you can ignore this message): INVALID_ARGUMENT: You must feed a value for placeholder tensor 'Placeholder/_4' with dtype int64 and shape [1]\n",
      "\t [[{{node Placeholder/_4}}]]\n",
      "2024-09-11 09:52:03.497215: W tensorflow/core/kernels/data/cache_dataset_ops.cc:856] The calling iterator did not fully read the dataset being cached. In order to avoid unexpected truncation of the dataset, the partially cached contents of the dataset  will be discarded. This can happen if you have an input pipeline similar to `dataset.cache().take(k).repeat()`. You should use `dataset.take(k).cache().repeat()` instead.\n",
      "2024-09-11 09:52:03.548686: I tensorflow/core/grappler/optimizers/custom_graph_optimizer_registry.cc:114] Plugin optimizer for device_type GPU is enabled.\n",
      "2024-09-11 09:52:03.562624: W tensorflow/core/kernels/data/cache_dataset_ops.cc:856] The calling iterator did not fully read the dataset being cached. In order to avoid unexpected truncation of the dataset, the partially cached contents of the dataset  will be discarded. This can happen if you have an input pipeline similar to `dataset.cache().take(k).repeat()`. You should use `dataset.take(k).cache().repeat()` instead.\n",
      "2024-09-11 09:52:03.616790: I tensorflow/core/grappler/optimizers/custom_graph_optimizer_registry.cc:114] Plugin optimizer for device_type GPU is enabled.\n",
      "2024-09-11 09:52:03.633263: W tensorflow/core/kernels/data/cache_dataset_ops.cc:856] The calling iterator did not fully read the dataset being cached. In order to avoid unexpected truncation of the dataset, the partially cached contents of the dataset  will be discarded. This can happen if you have an input pipeline similar to `dataset.cache().take(k).repeat()`. You should use `dataset.take(k).cache().repeat()` instead.\n"
     ]
    },
    {
     "data": {
      "image/png": "[encoded data removed]",
      "text/plain": [
       "<Figure size 1500x500 with 30 Axes>"
      ]
     },
     "metadata": {},
     "output_type": "display_data"
    }
   ],
   "source": [
    "# take 1 batch of the dataset\n",
    "test_dataset = test_dataset.take(1)\n",
    "\n",
    "# take the input images and put them in a list\n",
    "output_samples = []\n",
    "for input_image, image in tfds.as_numpy(test_dataset):\n",
    "      output_samples = input_image\n",
    "\n",
    "# pick 10 random numbers to be used as indices to the list above\n",
    "idxs = np.random.choice(BATCH_SIZE, size=10)\n",
    "\n",
    "# get the encoder output\n",
    "encoded_predicted = deep_encoder_model.predict(test_dataset)\n",
    "\n",
    "# get a prediction for the test batch\n",
    "deep_predicted = deep_autoencoder_model.predict(test_dataset)\n",
    "\n",
    "# display the 10 samples, encodings and decoded values!\n",
    "display_results(output_samples[idxs], encoded_predicted[idxs], deep_predicted[idxs])"
   ]
  }
 ],
 "metadata": {
  "accelerator": "GPU",
  "colab": {
   "private_outputs": true,
   "provenance": []
  },
  "kernelspec": {
   "display_name": "Python 3 (ipykernel)",
   "language": "python",
   "name": "python3"
  },
  "language_info": {
   "codemirror_mode": {
    "name": "ipython",
    "version": 3
   },
   "file_extension": ".py",
   "mimetype": "text/x-python",
   "name": "python",
   "nbconvert_exporter": "python",
   "pygments_lexer": "ipython3",
   "version": "3.11.0"
  }
 },
 "nbformat": 4,
 "nbformat_minor": 4
}
