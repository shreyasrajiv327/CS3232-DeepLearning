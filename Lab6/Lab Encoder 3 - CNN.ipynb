{
 "cells": [
  {
   "cell_type": "markdown",
   "metadata": {
    "id": "Svyum7G3gHcK"
   },
   "source": [
    "## Lab: Convolutional Autoencoders\n",
    "\n",
    "In this lab, you will use convolution layers to build your autoencoder. This usually leads to better results than dense networks and you will see it in action with the [Fashion MNIST dataset](https://www.tensorflow.org/datasets/catalog/fashion_mnist)."
   ]
  },
  {
   "cell_type": "markdown",
   "metadata": {
    "id": "Jk0Tld-U5XFD"
   },
   "source": [
    "## Imports"
   ]
  },
  {
   "cell_type": "code",
   "execution_count": 1,
   "metadata": {
    "id": "3EXwoz-KHtWO"
   },
   "outputs": [],
   "source": [
    "try:\n",
    "  # %tensorflow_version only exists in Colab.\n",
    "  %tensorflow_version 2.x\n",
    "except Exception:\n",
    "  pass\n",
    "\n",
    "import tensorflow as tf\n",
    "import tensorflow_datasets as tfds\n",
    "\n",
    "import numpy as np\n",
    "import matplotlib.pyplot as plt"
   ]
  },
  {
   "cell_type": "markdown",
   "metadata": {
    "id": "e0WGuXlw5bK-"
   },
   "source": [
    "## Prepare the Dataset"
   ]
  },
  {
   "cell_type": "markdown",
   "metadata": {
    "id": "aTySDKEhLNLY"
   },
   "source": [
    "As before, you will load the train and test sets from TFDS. Notice that we don't flatten the image this time. That's because we will be using convolutional layers later that can deal with 2D images."
   ]
  },
  {
   "cell_type": "code",
   "execution_count": 2,
   "metadata": {
    "id": "t9F7YsCNIKSA"
   },
   "outputs": [],
   "source": [
    "def map_image(image, label):\n",
    "  '''Normalizes the image. Returns image as input and label.'''\n",
    "  image = tf.cast(image, dtype=tf.float32)\n",
    "  image = image / 255.0\n",
    "\n",
    "  return image, image"
   ]
  },
  {
   "cell_type": "code",
   "execution_count": 3,
   "metadata": {
    "id": "9ZsciqJXL368"
   },
   "outputs": [
    {
     "name": "stderr",
     "output_type": "stream",
     "text": [
      "2024-09-11 09:49:43.022479: W tensorflow/tsl/platform/cloud/google_auth_provider.cc:184] All attempts to get a Google authentication bearer token failed, returning an empty token. Retrieving token from files failed with \"NOT_FOUND: Could not locate the credentials file.\". Retrieving token from GCE failed with \"FAILED_PRECONDITION: Error executing an HTTP request: libcurl code 6 meaning 'Couldn't resolve host name', error details: Could not resolve host: metadata.google.internal\".\n"
     ]
    },
    {
     "name": "stdout",
     "output_type": "stream",
     "text": [
      "\u001b[1mDownloading and preparing dataset 29.45 MiB (download: 29.45 MiB, generated: 36.42 MiB, total: 65.87 MiB) to /Users/reethu/tensorflow_datasets/fashion_mnist/3.0.1...\u001b[0m\n"
     ]
    },
    {
     "data": {
      "application/vnd.jupyter.widget-view+json": {
       "model_id": "419f12ce2ad54cb98f0fefb0cc967759",
       "version_major": 2,
       "version_minor": 0
      },
      "text/plain": [
       "Dl Completed...: 0 url [00:00, ? url/s]"
      ]
     },
     "metadata": {},
     "output_type": "display_data"
    },
    {
     "data": {
      "application/vnd.jupyter.widget-view+json": {
       "model_id": "5d1e157235d04545b1f3b9930aa0fcc7",
       "version_major": 2,
       "version_minor": 0
      },
      "text/plain": [
       "Dl Size...: 0 MiB [00:00, ? MiB/s]"
      ]
     },
     "metadata": {},
     "output_type": "display_data"
    },
    {
     "data": {
      "application/vnd.jupyter.widget-view+json": {
       "model_id": "101eeb7342fb4df594bade72e777620c",
       "version_major": 2,
       "version_minor": 0
      },
      "text/plain": [
       "Extraction completed...: 0 file [00:00, ? file/s]"
      ]
     },
     "metadata": {},
     "output_type": "display_data"
    },
    {
     "data": {
      "application/vnd.jupyter.widget-view+json": {
       "model_id": "b641b3b3b0364e34aa6851129ae08730",
       "version_major": 2,
       "version_minor": 0
      },
      "text/plain": [
       "Generating splits...:   0%|          | 0/2 [00:00<?, ? splits/s]"
      ]
     },
     "metadata": {},
     "output_type": "display_data"
    },
    {
     "data": {
      "application/vnd.jupyter.widget-view+json": {
       "model_id": "a89ee550661f480face2f2eb163ba01c",
       "version_major": 2,
       "version_minor": 0
      },
      "text/plain": [
       "Generating train examples...:   0%|          | 0/60000 [00:00<?, ? examples/s]"
      ]
     },
     "metadata": {},
     "output_type": "display_data"
    },
    {
     "name": "stderr",
     "output_type": "stream",
     "text": [
      "2024-09-11 10:03:16.647916: I metal_plugin/src/device/metal_device.cc:1154] Metal device set to: Apple M1 Pro\n",
      "2024-09-11 10:03:16.647954: I metal_plugin/src/device/metal_device.cc:296] systemMemory: 16.00 GB\n",
      "2024-09-11 10:03:16.647957: I metal_plugin/src/device/metal_device.cc:313] maxCacheSize: 5.33 GB\n",
      "2024-09-11 10:03:16.648021: I tensorflow/core/common_runtime/pluggable_device/pluggable_device_factory.cc:306] Could not identify NUMA node of platform GPU ID 0, defaulting to 0. Your kernel may not have been built with NUMA support.\n",
      "2024-09-11 10:03:16.648039: I tensorflow/core/common_runtime/pluggable_device/pluggable_device_factory.cc:272] Created TensorFlow device (/job:localhost/replica:0/task:0/device:GPU:0 with 0 MB memory) -> physical PluggableDevice (device: 0, name: METAL, pci bus id: <undefined>)\n"
     ]
    },
    {
     "data": {
      "application/vnd.jupyter.widget-view+json": {
       "model_id": "e374951eca954fe3a75aec80656081c8",
       "version_major": 2,
       "version_minor": 0
      },
      "text/plain": [
       "Shuffling /Users/reethu/tensorflow_datasets/fashion_mnist/incomplete.5JFMP5_3.0.1/fashion_mnist-train.tfrecord…"
      ]
     },
     "metadata": {},
     "output_type": "display_data"
    },
    {
     "data": {
      "application/vnd.jupyter.widget-view+json": {
       "model_id": "ba32547cd43e4bfeaae8d39794af9907",
       "version_major": 2,
       "version_minor": 0
      },
      "text/plain": [
       "Generating test examples...:   0%|          | 0/10000 [00:00<?, ? examples/s]"
      ]
     },
     "metadata": {},
     "output_type": "display_data"
    },
    {
     "data": {
      "application/vnd.jupyter.widget-view+json": {
       "model_id": "4d1648786bdb4e4fbde6419aeee12a77",
       "version_major": 2,
       "version_minor": 0
      },
      "text/plain": [
       "Shuffling /Users/reethu/tensorflow_datasets/fashion_mnist/incomplete.5JFMP5_3.0.1/fashion_mnist-test.tfrecord*…"
      ]
     },
     "metadata": {},
     "output_type": "display_data"
    },
    {
     "name": "stdout",
     "output_type": "stream",
     "text": [
      "\u001b[1mDataset fashion_mnist downloaded and prepared to /Users/reethu/tensorflow_datasets/fashion_mnist/3.0.1. Subsequent calls will reuse this data.\u001b[0m\n"
     ]
    }
   ],
   "source": [
    "BATCH_SIZE = 128\n",
    "SHUFFLE_BUFFER_SIZE = 1024\n",
    "\n",
    "train_dataset = tfds.load('fashion_mnist', as_supervised=True, split=\"train\")\n",
    "train_dataset = train_dataset.map(map_image)\n",
    "train_dataset = train_dataset.shuffle(SHUFFLE_BUFFER_SIZE).batch(BATCH_SIZE).repeat()\n",
    "\n",
    "test_dataset = tfds.load('fashion_mnist', as_supervised=True, split=\"test\")\n",
    "test_dataset = test_dataset.map(map_image)\n",
    "test_dataset = test_dataset.batch(BATCH_SIZE).repeat()"
   ]
  },
  {
   "cell_type": "markdown",
   "metadata": {
    "id": "uoyz09uKMDn5"
   },
   "source": [
    "## Define the Model"
   ]
  },
  {
   "cell_type": "markdown",
   "metadata": {
    "id": "V1-Fw_qnZPV7"
   },
   "source": [
    "As mentioned, you will use convolutional layers to build the model. This is composed of three main parts: encoder, bottleneck, and decoder. You will follow the configuration shown in the image below."
   ]
  },
  {
   "cell_type": "markdown",
   "metadata": {
    "id": "568W0TYyY9nl"
   },
   "source": [
    "<img src=\"cnnEncoder.png\" width=\"75%\" height=\"75%\"/>"
   ]
  },
  {
   "cell_type": "markdown",
   "metadata": {
    "id": "O2IvtyIoZnb4"
   },
   "source": [
    "The encoder, just like in previous labs, will contract with each additional layer. The features are generated with the Conv2D layers while the max pooling layers reduce the dimensionality."
   ]
  },
  {
   "cell_type": "code",
   "execution_count": 4,
   "metadata": {
    "id": "wxh8h-UMk2iL"
   },
   "outputs": [],
   "source": [
    "def encoder(inputs):\n",
    "  '''Defines the encoder with two Conv2D and max pooling layers.'''\n",
    "  # START YOUR CODE HERE\n",
    "  conv_1 = tf.keras.layers.Conv2D(filters=32, kernel_size=(3, 3), activation='relu', padding='same')(inputs)\n",
    "  max_pool_1 = tf.keras.layers.MaxPooling2D(pool_size=(2, 2))(conv_1)\n",
    "\n",
    "  conv_2 = tf.keras.layers.Conv2D(filters=64, kernel_size=(3, 3), activation='relu', padding='same')(max_pool_1)\n",
    "  max_pool_2 = tf.keras.layers.MaxPooling2D(pool_size=(2, 2))(conv_2)\n",
    "  # END YOUR CODE HERE\n",
    "\n",
    "  return max_pool_2"
   ]
  },
  {
   "cell_type": "markdown",
   "metadata": {
    "id": "g9KQYnabazLl"
   },
   "source": [
    "A bottleneck layer is used to get more features but without further reducing the dimension afterwards. Another layer is inserted here for visualizing the encoder output."
   ]
  },
  {
   "cell_type": "code",
   "execution_count": 5,
   "metadata": {
    "id": "wRWmLA3VliDr"
   },
   "outputs": [],
   "source": [
    "def bottle_neck(inputs):\n",
    "  '''Defines the bottleneck.'''\n",
    "  # START YOUR CODE HERE\n",
    "  bottle_neck = tf.keras.layers.Conv2D(filters=128, kernel_size=(3, 3), activation='relu', padding='same')(inputs)\n",
    "  # END YOUR CODE HERE\n",
    "\n",
    "  encoder_visualization = tf.keras.layers.Conv2D(filters=1, kernel_size=(3, 3), activation='sigmoid', padding='same')(bottle_neck)\n",
    "\n",
    "  return bottle_neck, encoder_visualization"
   ]
  },
  {
   "cell_type": "markdown",
   "metadata": {
    "id": "FayvcE3ebZxk"
   },
   "source": [
    "The decoder will upsample the bottleneck output back to the original image size."
   ]
  },
  {
   "cell_type": "code",
   "execution_count": 6,
   "metadata": {
    "id": "XZgLt5uAmArk"
   },
   "outputs": [],
   "source": [
    "def decoder(inputs):\n",
    "  '''Defines the decoder path to upsample back to the original image size.'''\n",
    "  # START YOUR CODE HERE\n",
    "  conv_1 = tf.keras.layers.Conv2D(filters=128, kernel_size=(3, 3), activation='relu', padding='same')(inputs)\n",
    "  # END YOUR CODE HERE\n",
    "  up_sample_1 = tf.keras.layers.UpSampling2D(size=(2,2))(conv_1)\n",
    "\n",
    "  conv_2 = tf.keras.layers.Conv2D(filters=64, kernel_size=(3,3), activation='relu', padding='same')(up_sample_1)\n",
    "  up_sample_2 = tf.keras.layers.UpSampling2D(size=(2,2))(conv_2)\n",
    "\n",
    "  conv_3 = tf.keras.layers.Conv2D(filters=1, kernel_size=(3,3), activation='sigmoid', padding='same')(up_sample_2)\n",
    "\n",
    "  return conv_3"
   ]
  },
  {
   "cell_type": "markdown",
   "metadata": {
    "id": "Dvfhvk9qbvCp"
   },
   "source": [
    "You can now build the full autoencoder using the functions above."
   ]
  },
  {
   "cell_type": "code",
   "execution_count": 7,
   "metadata": {
    "id": "fQKwO64iiOYl"
   },
   "outputs": [],
   "source": [
    "def convolutional_auto_encoder():\n",
    "  '''Builds the entire autoencoder model.'''\n",
    "  inputs = tf.keras.layers.Input(shape=(28, 28, 1,))\n",
    "  encoder_output = encoder(inputs)\n",
    "  bottleneck_output, encoder_visualization = bottle_neck(encoder_output)\n",
    "  decoder_output = decoder(bottleneck_output)\n",
    "\n",
    "  model = tf.keras.Model(inputs =inputs, outputs=decoder_output)\n",
    "  encoder_model = tf.keras.Model(inputs=inputs, outputs=encoder_visualization)\n",
    "  return model, encoder_model\n"
   ]
  },
  {
   "cell_type": "code",
   "execution_count": 8,
   "metadata": {
    "id": "1MmS7r0tkuIf"
   },
   "outputs": [
    {
     "name": "stdout",
     "output_type": "stream",
     "text": [
      "Model: \"model\"\n",
      "_________________________________________________________________\n",
      " Layer (type)                Output Shape              Param #   \n",
      "=================================================================\n",
      " input_1 (InputLayer)        [(None, 28, 28, 1)]       0         \n",
      "                                                                 \n",
      " conv2d (Conv2D)             (None, 28, 28, 32)        320       \n",
      "                                                                 \n",
      " max_pooling2d (MaxPooling2D  (None, 14, 14, 32)       0         \n",
      " )                                                               \n",
      "                                                                 \n",
      " conv2d_1 (Conv2D)           (None, 14, 14, 64)        18496     \n",
      "                                                                 \n",
      " max_pooling2d_1 (MaxPooling  (None, 7, 7, 64)         0         \n",
      " 2D)                                                             \n",
      "                                                                 \n",
      " conv2d_2 (Conv2D)           (None, 7, 7, 128)         73856     \n",
      "                                                                 \n",
      " conv2d_4 (Conv2D)           (None, 7, 7, 128)         147584    \n",
      "                                                                 \n",
      " up_sampling2d (UpSampling2D  (None, 14, 14, 128)      0         \n",
      " )                                                               \n",
      "                                                                 \n",
      " conv2d_5 (Conv2D)           (None, 14, 14, 64)        73792     \n",
      "                                                                 \n",
      " up_sampling2d_1 (UpSampling  (None, 28, 28, 64)       0         \n",
      " 2D)                                                             \n",
      "                                                                 \n",
      " conv2d_6 (Conv2D)           (None, 28, 28, 1)         577       \n",
      "                                                                 \n",
      "=================================================================\n",
      "Total params: 314,625\n",
      "Trainable params: 314,625\n",
      "Non-trainable params: 0\n",
      "_________________________________________________________________\n"
     ]
    }
   ],
   "source": [
    "convolutional_model, convolutional_encoder_model = convolutional_auto_encoder()\n",
    "convolutional_model.summary()"
   ]
  },
  {
   "cell_type": "markdown",
   "metadata": {
    "id": "5FRxRr0LMLCs"
   },
   "source": [
    "## Compile and Train the model"
   ]
  },
  {
   "cell_type": "code",
   "execution_count": 9,
   "metadata": {
    "id": "J0Umj_xaiHL_"
   },
   "outputs": [
    {
     "name": "stderr",
     "output_type": "stream",
     "text": [
      "WARNING:absl:At this time, the v2.11+ optimizer `tf.keras.optimizers.Adam` runs slowly on M1/M2 Macs, please use the legacy Keras optimizer instead, located at `tf.keras.optimizers.legacy.Adam`.\n",
      "WARNING:absl:There is a known slowdown when using v2.11+ Keras optimizers on M1/M2 Macs. Falling back to the legacy Keras optimizer, i.e., `tf.keras.optimizers.legacy.Adam`.\n"
     ]
    },
    {
     "name": "stdout",
     "output_type": "stream",
     "text": [
      "Epoch 1/40\n"
     ]
    },
    {
     "name": "stderr",
     "output_type": "stream",
     "text": [
      "2024-09-11 10:04:04.687755: I tensorflow/core/common_runtime/executor.cc:1197] [/device:CPU:0] (DEBUG INFO) Executor start aborting (this does not indicate an error and you can ignore this message): INVALID_ARGUMENT: You must feed a value for placeholder tensor 'Placeholder/_1' with dtype string and shape [1]\n",
      "\t [[{{node Placeholder/_1}}]]\n",
      "2024-09-11 10:04:04.688126: I tensorflow/core/common_runtime/executor.cc:1197] [/device:CPU:0] (DEBUG INFO) Executor start aborting (this does not indicate an error and you can ignore this message): INVALID_ARGUMENT: You must feed a value for placeholder tensor 'Placeholder/_1' with dtype string and shape [1]\n",
      "\t [[{{node Placeholder/_1}}]]\n",
      "2024-09-11 10:04:04.932831: W tensorflow/tsl/platform/profile_utils/cpu_utils.cc:128] Failed to get CPU frequency: 0 Hz\n",
      "2024-09-11 10:04:04.933206: I tensorflow/core/grappler/optimizers/custom_graph_optimizer_registry.cc:114] Plugin optimizer for device_type GPU is enabled.\n"
     ]
    },
    {
     "name": "stdout",
     "output_type": "stream",
     "text": [
      "468/468 [==============================] - ETA: 0s - loss: 0.2925"
     ]
    },
    {
     "name": "stderr",
     "output_type": "stream",
     "text": [
      "2024-09-11 10:04:31.105319: I tensorflow/core/common_runtime/executor.cc:1197] [/device:CPU:0] (DEBUG INFO) Executor start aborting (this does not indicate an error and you can ignore this message): INVALID_ARGUMENT: You must feed a value for placeholder tensor 'Placeholder/_1' with dtype string and shape [1]\n",
      "\t [[{{node Placeholder/_1}}]]\n",
      "2024-09-11 10:04:31.105601: I tensorflow/core/common_runtime/executor.cc:1197] [/device:CPU:0] (DEBUG INFO) Executor start aborting (this does not indicate an error and you can ignore this message): INVALID_ARGUMENT: You must feed a value for placeholder tensor 'Placeholder/_4' with dtype int64 and shape [1]\n",
      "\t [[{{node Placeholder/_4}}]]\n",
      "2024-09-11 10:04:31.170286: I tensorflow/core/grappler/optimizers/custom_graph_optimizer_registry.cc:114] Plugin optimizer for device_type GPU is enabled.\n"
     ]
    },
    {
     "name": "stdout",
     "output_type": "stream",
     "text": [
      "468/468 [==============================] - 35s 70ms/step - loss: 0.2925 - val_loss: 0.2692\n",
      "Epoch 2/40\n",
      "468/468 [==============================] - 34s 73ms/step - loss: 0.2631 - val_loss: 0.2622\n",
      "Epoch 3/40\n",
      "468/468 [==============================] - 32s 68ms/step - loss: 0.2580 - val_loss: 0.2583\n",
      "Epoch 4/40\n",
      "468/468 [==============================] - 32s 69ms/step - loss: 0.2553 - val_loss: 0.2572\n",
      "Epoch 5/40\n",
      "468/468 [==============================] - 32s 69ms/step - loss: 0.2536 - val_loss: 0.2553\n",
      "Epoch 6/40\n",
      "468/468 [==============================] - 32s 68ms/step - loss: 0.2525 - val_loss: 0.2538\n",
      "Epoch 7/40\n",
      "468/468 [==============================] - 31s 66ms/step - loss: 0.2515 - val_loss: 0.2536\n",
      "Epoch 8/40\n",
      "468/468 [==============================] - 31s 67ms/step - loss: 0.2508 - val_loss: 0.2524\n",
      "Epoch 9/40\n",
      "468/468 [==============================] - 30s 64ms/step - loss: 0.2504 - val_loss: 0.2519\n",
      "Epoch 10/40\n",
      "468/468 [==============================] - 29s 63ms/step - loss: 0.2498 - val_loss: 0.2520\n",
      "Epoch 11/40\n",
      "468/468 [==============================] - 29s 62ms/step - loss: 0.2494 - val_loss: 0.2515\n",
      "Epoch 12/40\n",
      "468/468 [==============================] - 30s 63ms/step - loss: 0.2491 - val_loss: 0.2512\n",
      "Epoch 13/40\n",
      "468/468 [==============================] - 30s 64ms/step - loss: 0.2488 - val_loss: 0.2510\n",
      "Epoch 14/40\n",
      "468/468 [==============================] - 31s 67ms/step - loss: 0.2485 - val_loss: 0.2506\n",
      "Epoch 15/40\n",
      "468/468 [==============================] - 30s 64ms/step - loss: 0.2484 - val_loss: 0.2509\n",
      "Epoch 16/40\n",
      "468/468 [==============================] - 30s 65ms/step - loss: 0.2481 - val_loss: 0.2499\n",
      "Epoch 17/40\n",
      "468/468 [==============================] - 31s 66ms/step - loss: 0.2479 - val_loss: 0.2497\n",
      "Epoch 18/40\n",
      "468/468 [==============================] - 31s 66ms/step - loss: 0.2477 - val_loss: 0.2497\n",
      "Epoch 19/40\n",
      "468/468 [==============================] - 31s 66ms/step - loss: 0.2475 - val_loss: 0.2494\n",
      "Epoch 20/40\n",
      "468/468 [==============================] - 30s 64ms/step - loss: 0.2473 - val_loss: 0.2501\n",
      "Epoch 21/40\n",
      "468/468 [==============================] - 31s 66ms/step - loss: 0.2472 - val_loss: 0.2491\n",
      "Epoch 22/40\n",
      "468/468 [==============================] - 30s 65ms/step - loss: 0.2470 - val_loss: 0.2493\n",
      "Epoch 23/40\n",
      "468/468 [==============================] - 30s 63ms/step - loss: 0.2470 - val_loss: 0.2488\n",
      "Epoch 24/40\n",
      "468/468 [==============================] - 32s 67ms/step - loss: 0.2468 - val_loss: 0.2487\n",
      "Epoch 25/40\n",
      "468/468 [==============================] - 31s 66ms/step - loss: 0.2466 - val_loss: 0.2487\n",
      "Epoch 26/40\n",
      "468/468 [==============================] - 31s 66ms/step - loss: 0.2466 - val_loss: 0.2488\n",
      "Epoch 27/40\n",
      "468/468 [==============================] - 31s 66ms/step - loss: 0.2465 - val_loss: 0.2485\n",
      "Epoch 28/40\n",
      "468/468 [==============================] - 31s 65ms/step - loss: 0.2464 - val_loss: 0.2485\n",
      "Epoch 29/40\n",
      "468/468 [==============================] - 30s 65ms/step - loss: 0.2463 - val_loss: 0.2483\n",
      "Epoch 30/40\n",
      "468/468 [==============================] - 30s 64ms/step - loss: 0.2462 - val_loss: 0.2483\n",
      "Epoch 31/40\n",
      "468/468 [==============================] - 29s 62ms/step - loss: 0.2462 - val_loss: 0.2482\n",
      "Epoch 32/40\n",
      "468/468 [==============================] - 31s 66ms/step - loss: 0.2462 - val_loss: 0.2488\n",
      "Epoch 33/40\n",
      "468/468 [==============================] - 31s 67ms/step - loss: 0.2460 - val_loss: 0.2481\n",
      "Epoch 34/40\n",
      "468/468 [==============================] - 32s 69ms/step - loss: 0.2459 - val_loss: 0.2480\n",
      "Epoch 35/40\n",
      "468/468 [==============================] - 32s 68ms/step - loss: 0.2460 - val_loss: 0.2480\n",
      "Epoch 36/40\n",
      "468/468 [==============================] - 31s 67ms/step - loss: 0.2459 - val_loss: 0.2479\n",
      "Epoch 37/40\n",
      "468/468 [==============================] - 31s 66ms/step - loss: 0.2458 - val_loss: 0.2478\n",
      "Epoch 38/40\n",
      "468/468 [==============================] - 30s 63ms/step - loss: 0.2457 - val_loss: 0.2477\n",
      "Epoch 39/40\n",
      "468/468 [==============================] - 31s 66ms/step - loss: 0.2458 - val_loss: 0.2479\n",
      "Epoch 40/40\n",
      "468/468 [==============================] - 32s 68ms/step - loss: 0.2456 - val_loss: 0.2477\n"
     ]
    }
   ],
   "source": [
    "train_steps = 60000 // BATCH_SIZE\n",
    "valid_steps = 60000 // BATCH_SIZE\n",
    "\n",
    "convolutional_model.compile(optimizer=tf.keras.optimizers.Adam(), loss='binary_crossentropy')\n",
    "conv_model_history = convolutional_model.fit(train_dataset, steps_per_epoch=train_steps, validation_data=test_dataset, validation_steps=valid_steps, epochs=40)"
   ]
  },
  {
   "cell_type": "markdown",
   "metadata": {
    "id": "-8zE9OiAMUd7"
   },
   "source": [
    "## Display sample results"
   ]
  },
  {
   "cell_type": "markdown",
   "metadata": {
    "id": "DCUOM7F_cf26"
   },
   "source": [
    "As usual, let's see some sample results from the trained model."
   ]
  },
  {
   "cell_type": "code",
   "execution_count": 10,
   "metadata": {
    "id": "A35RlIqKIsQv"
   },
   "outputs": [],
   "source": [
    "def display_one_row(disp_images, offset, shape=(28, 28)):\n",
    "  '''Display sample outputs in one row.'''\n",
    "  for idx, test_image in enumerate(disp_images):\n",
    "    plt.subplot(3, 10, offset + idx + 1)\n",
    "    plt.xticks([])\n",
    "    plt.yticks([])\n",
    "    test_image = np.reshape(test_image, shape)\n",
    "    plt.imshow(test_image, cmap='gray')\n",
    "\n",
    "\n",
    "def display_results(disp_input_images, disp_encoded, disp_predicted, enc_shape=(8,4)):\n",
    "  '''Displays the input, encoded, and decoded output values.'''\n",
    "  plt.figure(figsize=(15, 5))\n",
    "  display_one_row(disp_input_images, 0, shape=(28,28,))\n",
    "  display_one_row(disp_encoded, 10, shape=enc_shape)\n",
    "  display_one_row(disp_predicted, 20, shape=(28,28,))"
   ]
  },
  {
   "cell_type": "code",
   "execution_count": 11,
   "metadata": {
    "id": "qtQyQRxRN_hH"
   },
   "outputs": [
    {
     "name": "stderr",
     "output_type": "stream",
     "text": [
      "2024-09-11 10:24:42.984160: I tensorflow/core/common_runtime/executor.cc:1197] [/device:CPU:0] (DEBUG INFO) Executor start aborting (this does not indicate an error and you can ignore this message): INVALID_ARGUMENT: You must feed a value for placeholder tensor 'Placeholder/_2' with dtype string and shape [1]\n",
      "\t [[{{node Placeholder/_2}}]]\n",
      "2024-09-11 10:24:42.984484: I tensorflow/core/common_runtime/executor.cc:1197] [/device:CPU:0] (DEBUG INFO) Executor start aborting (this does not indicate an error and you can ignore this message): INVALID_ARGUMENT: You must feed a value for placeholder tensor 'Placeholder/_0' with dtype string and shape [1]\n",
      "\t [[{{node Placeholder/_0}}]]\n",
      "2024-09-11 10:24:43.063602: I tensorflow/core/grappler/optimizers/custom_graph_optimizer_registry.cc:114] Plugin optimizer for device_type GPU is enabled.\n"
     ]
    },
    {
     "name": "stdout",
     "output_type": "stream",
     "text": [
      "1/1 [==============================] - 0s 259ms/step\n",
      "1/1 [==============================] - 0s 76ms/step\n"
     ]
    },
    {
     "name": "stderr",
     "output_type": "stream",
     "text": [
      "2024-09-11 10:24:43.335068: I tensorflow/core/grappler/optimizers/custom_graph_optimizer_registry.cc:114] Plugin optimizer for device_type GPU is enabled.\n"
     ]
    },
    {
     "data": {
      "image/png": "[encoded data removed]",
      "text/plain": [
       "<Figure size 1500x500 with 30 Axes>"
      ]
     },
     "metadata": {},
     "output_type": "display_data"
    }
   ],
   "source": [
    "# take 1 batch of the dataset\n",
    "test_dataset = test_dataset.take(1)\n",
    "\n",
    "# take the input images and put them in a list\n",
    "output_samples = []\n",
    "for input_image, image in tfds.as_numpy(test_dataset):\n",
    "      output_samples = input_image\n",
    "\n",
    "# pick 10 indices\n",
    "idxs = np.array([1, 2, 3, 4, 5, 6, 7, 8, 9, 10])\n",
    "\n",
    "# prepare test samples as a batch of 10 images\n",
    "conv_output_samples = np.array(output_samples[idxs])\n",
    "conv_output_samples = np.reshape(conv_output_samples, (10, 28, 28, 1))\n",
    "\n",
    "# get the encoder ouput\n",
    "encoded = convolutional_encoder_model.predict(conv_output_samples)\n",
    "\n",
    "# get a prediction for some values in the dataset\n",
    "predicted = convolutional_model.predict(conv_output_samples)\n",
    "\n",
    "# display the samples, encodings and decoded values!\n",
    "display_results(conv_output_samples, encoded, predicted, enc_shape=(7,7))"
   ]
  }
 ],
 "metadata": {
  "accelerator": "GPU",
  "colab": {
   "private_outputs": true,
   "provenance": []
  },
  "kernelspec": {
   "display_name": "Python 3 (ipykernel)",
   "language": "python",
   "name": "python3"
  },
  "language_info": {
   "codemirror_mode": {
    "name": "ipython",
    "version": 3
   },
   "file_extension": ".py",
   "mimetype": "text/x-python",
   "name": "python",
   "nbconvert_exporter": "python",
   "pygments_lexer": "ipython3",
   "version": "3.11.0"
  }
 },
 "nbformat": 4,
 "nbformat_minor": 4
}
