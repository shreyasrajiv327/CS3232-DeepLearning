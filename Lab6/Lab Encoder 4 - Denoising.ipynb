{
 "cells": [
  {
   "cell_type": "markdown",
   "metadata": {
    "id": "Ka9-BtIZhpgT"
   },
   "source": [
    "# Lab: Denoising with a CNN Autoencoder\n",
    "\n",
    "In the final lab for this week, you will introduce noise to the Fashion MNIST dataset and train an autoencoder to reconstruct the original input images."
   ]
  },
  {
   "cell_type": "markdown",
   "metadata": {
    "id": "k-WXDV3Tk6N6"
   },
   "source": [
    "## Imports"
   ]
  },
  {
   "cell_type": "code",
   "execution_count": 1,
   "metadata": {
    "id": "3EXwoz-KHtWO"
   },
   "outputs": [],
   "source": [
    "try:\n",
    "  # %tensorflow_version only exists in Colab.\n",
    "  %tensorflow_version 2.x\n",
    "except Exception:\n",
    "  pass\n",
    "\n",
    "import tensorflow as tf\n",
    "import tensorflow_datasets as tfds\n",
    "\n",
    "import numpy as np\n",
    "import matplotlib.pyplot as plt"
   ]
  },
  {
   "cell_type": "markdown",
   "metadata": {
    "id": "RX4GbMpwk8Y5"
   },
   "source": [
    "## Prepare the Dataset"
   ]
  },
  {
   "cell_type": "markdown",
   "metadata": {
    "id": "OLuUvE7ieuAl"
   },
   "source": [
    "You will prepare the train and test sets a little differently this time. Instead of just normalizing the images, you will also introduce random noise and the generated images will be used as input to your model. The target or label will still be the clean images."
   ]
  },
  {
   "cell_type": "code",
   "execution_count": 2,
   "metadata": {
    "id": "t9F7YsCNIKSA"
   },
   "outputs": [],
   "source": [
    "def map_image_with_noise(image, label):\n",
    "  '''Normalizes the images and generates noisy inputs.'''\n",
    "  image = tf.cast(image, dtype=tf.float32)\n",
    "  image = image / 255.0\n",
    "\n",
    "  # START YOUR CODE HERE\n",
    "  noise_factor = 0.5\n",
    "  noise = tf.random.normal(shape=tf.shape(image), mean=0.0, stddev=1.0)\n",
    "  image_noisy = image + noise_factor * noise\n",
    "  # END YOUR CODE HERE\n",
    "  \n",
    "  image_noisy = tf.clip_by_value(image_noisy, 0.0, 1.0)\n",
    "\n",
    "  return image_noisy, image"
   ]
  },
  {
   "cell_type": "code",
   "execution_count": 4,
   "metadata": {
    "id": "Ub3k-XfMeTol"
   },
   "outputs": [
    {
     "name": "stderr",
     "output_type": "stream",
     "text": [
      "2024-09-11 10:26:07.113899: I metal_plugin/src/device/metal_device.cc:1154] Metal device set to: Apple M1 Pro\n",
      "2024-09-11 10:26:07.113965: I metal_plugin/src/device/metal_device.cc:296] systemMemory: 16.00 GB\n",
      "2024-09-11 10:26:07.113969: I metal_plugin/src/device/metal_device.cc:313] maxCacheSize: 5.33 GB\n",
      "2024-09-11 10:26:07.114025: I tensorflow/core/common_runtime/pluggable_device/pluggable_device_factory.cc:306] Could not identify NUMA node of platform GPU ID 0, defaulting to 0. Your kernel may not have been built with NUMA support.\n",
      "2024-09-11 10:26:07.114043: I tensorflow/core/common_runtime/pluggable_device/pluggable_device_factory.cc:272] Created TensorFlow device (/job:localhost/replica:0/task:0/device:GPU:0 with 0 MB memory) -> physical PluggableDevice (device: 0, name: METAL, pci bus id: <undefined>)\n"
     ]
    }
   ],
   "source": [
    "BATCH_SIZE = 128\n",
    "SHUFFLE_BUFFER_SIZE = 1024\n",
    "\n",
    "train_dataset = tfds.load('fashion_mnist', as_supervised=True, split=\"train\")\n",
    "train_dataset = train_dataset.map(map_image_with_noise)\n",
    "train_dataset = train_dataset.shuffle(SHUFFLE_BUFFER_SIZE).batch(BATCH_SIZE).repeat()\n",
    "\n",
    "test_dataset = tfds.load('fashion_mnist', as_supervised=True, split=\"test\")\n",
    "test_dataset = test_dataset.map(map_image_with_noise)\n",
    "test_dataset = test_dataset.batch(BATCH_SIZE).repeat()"
   ]
  },
  {
   "cell_type": "markdown",
   "metadata": {
    "id": "0dJ4QWDMk_Wd"
   },
   "source": [
    "## Build the Model"
   ]
  },
  {
   "cell_type": "markdown",
   "metadata": {
    "id": "Z8t_TQP3fOLZ"
   },
   "source": [
    "You will use the same model from the previous lab."
   ]
  },
  {
   "cell_type": "markdown",
   "metadata": {
    "id": "e_8SD8jRfVG7"
   },
   "source": [
    "<img src=\"cnnEncoder.png\" width=\"75%\" height=\"75%\"/>"
   ]
  },
  {
   "cell_type": "code",
   "execution_count": 6,
   "metadata": {
    "id": "wxh8h-UMk2iL"
   },
   "outputs": [],
   "source": [
    "def encoder(inputs):\n",
    "  '''Defines the encoder with two Conv2D and max pooling layers.'''\n",
    "  conv_1 = tf.keras.layers.Conv2D(filters=64, kernel_size=(3,3), activation='relu', padding='same')(inputs)\n",
    "  max_pool_1 = tf.keras.layers.MaxPooling2D(pool_size=(2,2))(conv_1)\n",
    "\n",
    "  conv_2 = tf.keras.layers.Conv2D(filters=128, kernel_size=(3,3), activation='relu', padding='same')(max_pool_1)\n",
    "  max_pool_2 = tf.keras.layers.MaxPooling2D(pool_size=(2,2))(conv_2)\n",
    "\n",
    "  return max_pool_2"
   ]
  },
  {
   "cell_type": "code",
   "execution_count": 7,
   "metadata": {
    "id": "wRWmLA3VliDr"
   },
   "outputs": [],
   "source": [
    "def bottle_neck(inputs):\n",
    "  '''Defines the bottleneck.'''\n",
    "  bottle_neck = tf.keras.layers.Conv2D(filters=256, kernel_size=(3,3), activation='relu', padding='same')(inputs)\n",
    "  encoder_visualization = tf.keras.layers.Conv2D(filters=1, kernel_size=(3,3), activation='sigmoid', padding='same')(bottle_neck)\n",
    "\n",
    "  return bottle_neck, encoder_visualization"
   ]
  },
  {
   "cell_type": "code",
   "execution_count": 8,
   "metadata": {
    "id": "XZgLt5uAmArk"
   },
   "outputs": [],
   "source": [
    "def decoder(inputs):\n",
    "  '''Defines the decoder path to upsample back to the original image size.'''\n",
    "  conv_1 = tf.keras.layers.Conv2D(filters=128, kernel_size=(3,3), activation='relu', padding='same')(inputs)\n",
    "  up_sample_1 = tf.keras.layers.UpSampling2D(size=(2,2))(conv_1)\n",
    "\n",
    "  conv_2 = tf.keras.layers.Conv2D(filters=64, kernel_size=(3,3), activation='relu', padding='same')(up_sample_1)\n",
    "  up_sample_2 = tf.keras.layers.UpSampling2D(size=(2,2))(conv_2)\n",
    "\n",
    "  conv_3 = tf.keras.layers.Conv2D(filters=1, kernel_size=(3,3), activation='sigmoid', padding='same')(up_sample_2)\n",
    "\n",
    "  return conv_3"
   ]
  },
  {
   "cell_type": "code",
   "execution_count": 9,
   "metadata": {
    "id": "fQKwO64iiOYl"
   },
   "outputs": [],
   "source": [
    "def convolutional_auto_encoder():\n",
    "  '''Builds the entire autoencoder model.'''\n",
    "  inputs = tf.keras.layers.Input(shape=(28, 28, 1,))\n",
    "  encoder_output = encoder(inputs)\n",
    "  bottleneck_output, encoder_visualization = bottle_neck(encoder_output)\n",
    "  decoder_output = decoder(bottleneck_output)\n",
    "\n",
    "  model = tf.keras.Model(inputs =inputs, outputs=decoder_output)\n",
    "  encoder_model = tf.keras.Model(inputs=inputs, outputs=encoder_visualization)\n",
    "  return model, encoder_model"
   ]
  },
  {
   "cell_type": "code",
   "execution_count": 10,
   "metadata": {
    "id": "1MmS7r0tkuIf"
   },
   "outputs": [
    {
     "name": "stdout",
     "output_type": "stream",
     "text": [
      "Model: \"model\"\n",
      "_________________________________________________________________\n",
      " Layer (type)                Output Shape              Param #   \n",
      "=================================================================\n",
      " input_1 (InputLayer)        [(None, 28, 28, 1)]       0         \n",
      "                                                                 \n",
      " conv2d (Conv2D)             (None, 28, 28, 64)        640       \n",
      "                                                                 \n",
      " max_pooling2d (MaxPooling2D  (None, 14, 14, 64)       0         \n",
      " )                                                               \n",
      "                                                                 \n",
      " conv2d_1 (Conv2D)           (None, 14, 14, 128)       73856     \n",
      "                                                                 \n",
      " max_pooling2d_1 (MaxPooling  (None, 7, 7, 128)        0         \n",
      " 2D)                                                             \n",
      "                                                                 \n",
      " conv2d_2 (Conv2D)           (None, 7, 7, 256)         295168    \n",
      "                                                                 \n",
      " conv2d_4 (Conv2D)           (None, 7, 7, 128)         295040    \n",
      "                                                                 \n",
      " up_sampling2d (UpSampling2D  (None, 14, 14, 128)      0         \n",
      " )                                                               \n",
      "                                                                 \n",
      " conv2d_5 (Conv2D)           (None, 14, 14, 64)        73792     \n",
      "                                                                 \n",
      " up_sampling2d_1 (UpSampling  (None, 28, 28, 64)       0         \n",
      " 2D)                                                             \n",
      "                                                                 \n",
      " conv2d_6 (Conv2D)           (None, 28, 28, 1)         577       \n",
      "                                                                 \n",
      "=================================================================\n",
      "Total params: 739,073\n",
      "Trainable params: 739,073\n",
      "Non-trainable params: 0\n",
      "_________________________________________________________________\n"
     ]
    }
   ],
   "source": [
    "convolutional_model, convolutional_encoder_model = convolutional_auto_encoder()\n",
    "convolutional_model.summary()"
   ]
  },
  {
   "cell_type": "markdown",
   "metadata": {
    "id": "rCh0ea08lERp"
   },
   "source": [
    "## Compile and Train the Model"
   ]
  },
  {
   "cell_type": "code",
   "execution_count": 11,
   "metadata": {
    "id": "J0Umj_xaiHL_"
   },
   "outputs": [
    {
     "name": "stderr",
     "output_type": "stream",
     "text": [
      "WARNING:absl:At this time, the v2.11+ optimizer `tf.keras.optimizers.Adam` runs slowly on M1/M2 Macs, please use the legacy Keras optimizer instead, located at `tf.keras.optimizers.legacy.Adam`.\n",
      "WARNING:absl:There is a known slowdown when using v2.11+ Keras optimizers on M1/M2 Macs. Falling back to the legacy Keras optimizer, i.e., `tf.keras.optimizers.legacy.Adam`.\n"
     ]
    },
    {
     "name": "stdout",
     "output_type": "stream",
     "text": [
      "Epoch 1/40\n"
     ]
    },
    {
     "name": "stderr",
     "output_type": "stream",
     "text": [
      "2024-09-11 10:26:25.793796: I tensorflow/core/common_runtime/executor.cc:1197] [/device:CPU:0] (DEBUG INFO) Executor start aborting (this does not indicate an error and you can ignore this message): INVALID_ARGUMENT: You must feed a value for placeholder tensor 'Placeholder/_1' with dtype string and shape [1]\n",
      "\t [[{{node Placeholder/_1}}]]\n",
      "2024-09-11 10:26:25.794320: I tensorflow/core/common_runtime/executor.cc:1197] [/device:CPU:0] (DEBUG INFO) Executor start aborting (this does not indicate an error and you can ignore this message): INVALID_ARGUMENT: You must feed a value for placeholder tensor 'Placeholder/_2' with dtype string and shape [1]\n",
      "\t [[{{node Placeholder/_2}}]]\n",
      "2024-09-11 10:26:26.119179: W tensorflow/tsl/platform/profile_utils/cpu_utils.cc:128] Failed to get CPU frequency: 0 Hz\n",
      "2024-09-11 10:26:26.119625: I tensorflow/core/grappler/optimizers/custom_graph_optimizer_registry.cc:114] Plugin optimizer for device_type GPU is enabled.\n"
     ]
    },
    {
     "name": "stdout",
     "output_type": "stream",
     "text": [
      "468/468 [==============================] - ETA: 0s - loss: 0.3202"
     ]
    },
    {
     "name": "stderr",
     "output_type": "stream",
     "text": [
      "2024-09-11 10:26:53.502295: I tensorflow/core/common_runtime/executor.cc:1197] [/device:CPU:0] (DEBUG INFO) Executor start aborting (this does not indicate an error and you can ignore this message): INVALID_ARGUMENT: You must feed a value for placeholder tensor 'Placeholder/_3' with dtype int64 and shape [1]\n",
      "\t [[{{node Placeholder/_3}}]]\n",
      "2024-09-11 10:26:53.502556: I tensorflow/core/common_runtime/executor.cc:1197] [/device:CPU:0] (DEBUG INFO) Executor start aborting (this does not indicate an error and you can ignore this message): INVALID_ARGUMENT: You must feed a value for placeholder tensor 'Placeholder/_1' with dtype string and shape [1]\n",
      "\t [[{{node Placeholder/_1}}]]\n",
      "2024-09-11 10:26:53.571260: I tensorflow/core/grappler/optimizers/custom_graph_optimizer_registry.cc:114] Plugin optimizer for device_type GPU is enabled.\n"
     ]
    },
    {
     "name": "stdout",
     "output_type": "stream",
     "text": [
      "468/468 [==============================] - 40s 78ms/step - loss: 0.3202 - val_loss: 0.2999\n",
      "Epoch 2/40\n",
      "468/468 [==============================] - 36s 76ms/step - loss: 0.2948 - val_loss: 0.2944\n",
      "Epoch 3/40\n",
      "468/468 [==============================] - 37s 78ms/step - loss: 0.2904 - val_loss: 0.2914\n",
      "Epoch 4/40\n",
      "468/468 [==============================] - 36s 77ms/step - loss: 0.2876 - val_loss: 0.2897\n",
      "Epoch 5/40\n",
      "468/468 [==============================] - 35s 74ms/step - loss: 0.2860 - val_loss: 0.2878\n",
      "Epoch 6/40\n",
      "468/468 [==============================] - 35s 74ms/step - loss: 0.2847 - val_loss: 0.2875\n",
      "Epoch 7/40\n",
      "468/468 [==============================] - 35s 74ms/step - loss: 0.2838 - val_loss: 0.2857\n",
      "Epoch 8/40\n",
      "468/468 [==============================] - 35s 75ms/step - loss: 0.2831 - val_loss: 0.2848\n",
      "Epoch 9/40\n",
      "468/468 [==============================] - 34s 73ms/step - loss: 0.2824 - val_loss: 0.2844\n",
      "Epoch 10/40\n",
      "468/468 [==============================] - 33s 71ms/step - loss: 0.2820 - val_loss: 0.2840\n",
      "Epoch 11/40\n",
      "468/468 [==============================] - 34s 72ms/step - loss: 0.2816 - val_loss: 0.2835\n",
      "Epoch 12/40\n",
      "468/468 [==============================] - 34s 72ms/step - loss: 0.2813 - val_loss: 0.2835\n",
      "Epoch 13/40\n",
      "468/468 [==============================] - 34s 72ms/step - loss: 0.2809 - val_loss: 0.2828\n",
      "Epoch 14/40\n",
      "468/468 [==============================] - 179s 382ms/step - loss: 0.2808 - val_loss: 0.2828\n",
      "Epoch 15/40\n",
      "468/468 [==============================] - 35s 75ms/step - loss: 0.2804 - val_loss: 0.2824\n",
      "Epoch 16/40\n",
      "468/468 [==============================] - 35s 75ms/step - loss: 0.2802 - val_loss: 0.2832\n",
      "Epoch 17/40\n",
      "468/468 [==============================] - 36s 76ms/step - loss: 0.2800 - val_loss: 0.2823\n",
      "Epoch 18/40\n",
      "468/468 [==============================] - 36s 77ms/step - loss: 0.2800 - val_loss: 0.2822\n",
      "Epoch 19/40\n",
      "468/468 [==============================] - 35s 76ms/step - loss: 0.2797 - val_loss: 0.2821\n",
      "Epoch 20/40\n",
      "468/468 [==============================] - 37s 79ms/step - loss: 0.2795 - val_loss: 0.2818\n",
      "Epoch 21/40\n",
      "468/468 [==============================] - 36s 78ms/step - loss: 0.2795 - val_loss: 0.2815\n",
      "Epoch 22/40\n",
      "468/468 [==============================] - 36s 77ms/step - loss: 0.2793 - val_loss: 0.2815\n",
      "Epoch 23/40\n",
      "468/468 [==============================] - 37s 78ms/step - loss: 0.2792 - val_loss: 0.2814\n",
      "Epoch 24/40\n",
      "468/468 [==============================] - 37s 79ms/step - loss: 0.2790 - val_loss: 0.2822\n",
      "Epoch 25/40\n",
      "468/468 [==============================] - 36s 76ms/step - loss: 0.2791 - val_loss: 0.2811\n",
      "Epoch 26/40\n",
      "468/468 [==============================] - 36s 78ms/step - loss: 0.2789 - val_loss: 0.2812\n",
      "Epoch 27/40\n",
      "468/468 [==============================] - 36s 76ms/step - loss: 0.2788 - val_loss: 0.2809\n",
      "Epoch 28/40\n",
      "468/468 [==============================] - 36s 77ms/step - loss: 0.2788 - val_loss: 0.2809\n",
      "Epoch 29/40\n",
      "468/468 [==============================] - 35s 76ms/step - loss: 0.2786 - val_loss: 0.2808\n",
      "Epoch 30/40\n",
      "468/468 [==============================] - 35s 76ms/step - loss: 0.2786 - val_loss: 0.2812\n",
      "Epoch 31/40\n",
      "468/468 [==============================] - 35s 75ms/step - loss: 0.2785 - val_loss: 0.2808\n",
      "Epoch 32/40\n",
      "468/468 [==============================] - 35s 74ms/step - loss: 0.2785 - val_loss: 0.2806\n",
      "Epoch 33/40\n",
      "468/468 [==============================] - 36s 77ms/step - loss: 0.2784 - val_loss: 0.2806\n",
      "Epoch 34/40\n",
      "468/468 [==============================] - 36s 78ms/step - loss: 0.2783 - val_loss: 0.2805\n",
      "Epoch 35/40\n",
      "468/468 [==============================] - 35s 75ms/step - loss: 0.2783 - val_loss: 0.2808\n",
      "Epoch 36/40\n",
      "468/468 [==============================] - 34s 73ms/step - loss: 0.2782 - val_loss: 0.2805\n",
      "Epoch 37/40\n",
      "468/468 [==============================] - 36s 76ms/step - loss: 0.2782 - val_loss: 0.2809\n",
      "Epoch 38/40\n",
      "468/468 [==============================] - 35s 74ms/step - loss: 0.2782 - val_loss: 0.2803\n",
      "Epoch 39/40\n",
      "468/468 [==============================] - 34s 73ms/step - loss: 0.2781 - val_loss: 0.2802\n",
      "Epoch 40/40\n",
      "468/468 [==============================] - 35s 75ms/step - loss: 0.2780 - val_loss: 0.2802\n"
     ]
    }
   ],
   "source": [
    "train_steps = 60000 // BATCH_SIZE\n",
    "valid_steps = 60000 // BATCH_SIZE\n",
    "\n",
    "convolutional_model.compile(optimizer=tf.keras.optimizers.Adam(), loss='binary_crossentropy')\n",
    "conv_model_history = convolutional_model.fit(train_dataset, steps_per_epoch=train_steps, validation_data=test_dataset, validation_steps=valid_steps, epochs=40)"
   ]
  },
  {
   "cell_type": "markdown",
   "metadata": {
    "id": "npl9MHErlJa2"
   },
   "source": [
    "## Display sample results\n",
    "\n",
    "Let's see if the model can generate the clean image from noisy inputs."
   ]
  },
  {
   "cell_type": "code",
   "execution_count": 12,
   "metadata": {
    "id": "aqFR12I6fwBe"
   },
   "outputs": [],
   "source": [
    "def display_one_row(disp_images, offset, shape=(28, 28)):\n",
    "  '''Display sample outputs in one row.'''\n",
    "  for idx, noisy_image in enumerate(disp_images):\n",
    "    plt.subplot(3, 10, offset + idx + 1)\n",
    "    plt.xticks([])\n",
    "    plt.yticks([])\n",
    "    noisy_image = np.reshape(noisy_image, shape)\n",
    "    plt.imshow(noisy_image, cmap='gray')\n",
    "\n",
    "\n",
    "def display_results(disp_input_images, disp_encoded, disp_predicted, enc_shape=(8,4)):\n",
    "  '''Displays the input, encoded, and decoded output values.'''\n",
    "  plt.figure(figsize=(15, 5))\n",
    "  display_one_row(disp_input_images, 0, shape=(28,28,))\n",
    "  display_one_row(disp_encoded, 10, shape=enc_shape)\n",
    "  display_one_row(disp_predicted, 20, shape=(28,28,))"
   ]
  },
  {
   "cell_type": "code",
   "execution_count": 13,
   "metadata": {
    "id": "qtQyQRxRN_hH"
   },
   "outputs": [
    {
     "name": "stderr",
     "output_type": "stream",
     "text": [
      "2024-09-11 10:52:26.018604: I tensorflow/core/common_runtime/executor.cc:1197] [/device:CPU:0] (DEBUG INFO) Executor start aborting (this does not indicate an error and you can ignore this message): INVALID_ARGUMENT: You must feed a value for placeholder tensor 'Placeholder/_0' with dtype string and shape [1]\n",
      "\t [[{{node Placeholder/_0}}]]\n",
      "2024-09-11 10:52:26.018879: I tensorflow/core/common_runtime/executor.cc:1197] [/device:CPU:0] (DEBUG INFO) Executor start aborting (this does not indicate an error and you can ignore this message): INVALID_ARGUMENT: You must feed a value for placeholder tensor 'Placeholder/_2' with dtype string and shape [1]\n",
      "\t [[{{node Placeholder/_2}}]]\n",
      "2024-09-11 10:52:26.100276: I tensorflow/core/grappler/optimizers/custom_graph_optimizer_registry.cc:114] Plugin optimizer for device_type GPU is enabled.\n"
     ]
    },
    {
     "name": "stdout",
     "output_type": "stream",
     "text": [
      "1/1 [==============================] - 0s 257ms/step\n",
      "1/1 [==============================] - 0s 73ms/step\n"
     ]
    },
    {
     "name": "stderr",
     "output_type": "stream",
     "text": [
      "2024-09-11 10:52:26.373394: I tensorflow/core/grappler/optimizers/custom_graph_optimizer_registry.cc:114] Plugin optimizer for device_type GPU is enabled.\n"
     ]
    },
    {
     "data": {
      "image/png": "[encoded data removed]",
      "text/plain": [
       "<Figure size 1500x500 with 30 Axes>"
      ]
     },
     "metadata": {},
     "output_type": "display_data"
    }
   ],
   "source": [
    "# take 1 batch of the dataset\n",
    "test_dataset = test_dataset.take(1)\n",
    "\n",
    "# take the input images and put them in a list\n",
    "output_samples = []\n",
    "for input_image, image in tfds.as_numpy(test_dataset):\n",
    "      output_samples = input_image\n",
    "\n",
    "# pick 10 indices\n",
    "idxs = np.array([1, 2, 3, 4, 5, 6, 7, 8, 9, 10])\n",
    "\n",
    "# prepare test samples as a batch of 10 images\n",
    "conv_output_samples = np.array(output_samples[idxs])\n",
    "conv_output_samples = np.reshape(conv_output_samples, (10, 28, 28, 1))\n",
    "\n",
    "# get the encoder ouput\n",
    "encoded = convolutional_encoder_model.predict(conv_output_samples)\n",
    "\n",
    "# get a prediction for some values in the dataset\n",
    "predicted = convolutional_model.predict(conv_output_samples)\n",
    "\n",
    "# display the samples, encodings and decoded values!\n",
    "display_results(conv_output_samples, encoded, predicted, enc_shape=(7,7))"
   ]
  }
 ],
 "metadata": {
  "accelerator": "GPU",
  "colab": {
   "private_outputs": true,
   "provenance": []
  },
  "kernelspec": {
   "display_name": "Python 3 (ipykernel)",
   "language": "python",
   "name": "python3"
  },
  "language_info": {
   "codemirror_mode": {
    "name": "ipython",
    "version": 3
   },
   "file_extension": ".py",
   "mimetype": "text/x-python",
   "name": "python",
   "nbconvert_exporter": "python",
   "pygments_lexer": "ipython3",
   "version": "3.11.0"
  }
 },
 "nbformat": 4,
 "nbformat_minor": 4
}
